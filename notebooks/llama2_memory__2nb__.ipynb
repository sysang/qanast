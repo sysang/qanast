{
 "cells": [
  {
   "cell_type": "code",
   "execution_count": 9,
   "id": "8387c14b",
   "metadata": {
    "scrolled": true
   },
   "outputs": [],
   "source": [
    "from typing import Any, List, Mapping, Optional\n",
    "import json\n",
    "\n",
    "import requests\n",
    "\n",
    "from operator import itemgetter\n",
    "from langchain.callbacks.manager import CallbackManagerForLLMRun\n",
    "from langchain.llms.base import LLM\n",
    "from langchain.prompts import ChatPromptTemplate, MessagesPlaceholder\n",
    "from langchain.memory import ConversationBufferMemory\n",
    "from langchain.schema.runnable import RunnablePassthrough, RunnableLambda"
   ]
  },
  {
   "cell_type": "code",
   "execution_count": 10,
   "id": "535792a5",
   "metadata": {},
   "outputs": [],
   "source": [
    "class CustomLLM(LLM):\n",
    "    max_tokens: int\n",
    "    api_url: str\n",
    "\n",
    "    @property\n",
    "    def _llm_type(self) -> str:\n",
    "        return \"custom\"\n",
    "\n",
    "    def _call(\n",
    "        self,\n",
    "        prompt: str,\n",
    "        stop: Optional[List[str]] = None,\n",
    "        run_manager: Optional[CallbackManagerForLLMRun] = None,\n",
    "        **kwargs: Any,\n",
    "    ) -> str:\n",
    "        if stop is not None:\n",
    "            raise ValueError(\"stop kwargs are not permitted.\")\n",
    "\n",
    "        headers = { 'Content-Type' : 'application/json' }\n",
    "\n",
    "        print(\"[DEBUG] prompt: \", prompt)\n",
    "\n",
    "        data = {\n",
    "            'prompt': prompt,\n",
    "            \"stop\": [\"</s>\"],\n",
    "            \"max_tokens\": self.max_tokens\n",
    "        }\n",
    "        r = requests.post(\n",
    "            self.api_url,\n",
    "            headers=headers,\n",
    "            data=json.dumps(data),\n",
    "            timeout=1200)\n",
    "\n",
    "        response_data = r.json()\n",
    "\n",
    "        return response_data['choices'][0]['text']\n",
    "\n",
    "    @property\n",
    "    def _identifying_params(self) -> Mapping[str, Any]:\n",
    "        \"\"\"Get the identifying parameters.\"\"\"\n",
    "        return {\n",
    "            \"max_tokens\": self.max_tokens,\n",
    "            \"api_url\": self.api_url\n",
    "        }\n",
    "\n",
    "model = CustomLLM(max_tokens=500, api_url=\"http://192.168.58.9:3000/v1/completions\")"
   ]
  },
  {
   "cell_type": "code",
   "execution_count": 11,
   "id": "b378cc8f",
   "metadata": {
    "lines_to_next_cell": 0
   },
   "outputs": [
    {
     "data": {
      "text/plain": [
       "[SystemMessage(content='[INST] <<SYS>>You are a helpful chatbot <</SYS>>'),\n",
       " HumanMessage(content='[INST] What is your name? [/INST]')]"
      ]
     },
     "execution_count": 11,
     "metadata": {},
     "output_type": "execute_result"
    }
   ],
   "source": [
    "prompt = ChatPromptTemplate.from_messages([\n",
    "    (\"system\", \"[INST] <<SYS>>You are a helpful chatbot <</SYS>>[/INST]\"),\n",
    "     MessagesPlaceholder(variable_name=\"memory\"),\n",
    "    (\"human\", \"[INST] {input} [/INST]\")\n",
    "])\n",
    "messages = prompt.format_messages(\n",
    "    input=\"What is your name?\",\n",
    "    memory=[],\n",
    ")\n",
    "messages"
   ]
  },
  {
   "cell_type": "code",
   "execution_count": 12,
   "id": "cda5777a",
   "metadata": {
    "lines_to_next_cell": 0
   },
   "outputs": [
    {
     "data": {
      "text/plain": [
       "{'input': 'hi im bob', 'memory': []}"
      ]
     },
     "execution_count": 12,
     "metadata": {},
     "output_type": "execute_result"
    }
   ],
   "source": [
    "memory = ConversationBufferMemory(return_messages=True)\n",
    "chain = RunnablePassthrough.assign(\n",
    "    memory=RunnableLambda(memory.load_memory_variables) | itemgetter(\"history\")\n",
    ")\n",
    "inputs = {\"input\": \"hi im bob\"}\n",
    "chain.invoke(inputs)"
   ]
  },
  {
   "cell_type": "code",
   "execution_count": 13,
   "id": "685d062a",
   "metadata": {},
   "outputs": [],
   "source": [
    "chain = RunnablePassthrough.assign(\n",
    "    memory=RunnableLambda(memory.load_memory_variables) | itemgetter(\"history\")\n",
    ") | prompt | model"
   ]
  },
  {
   "cell_type": "code",
   "execution_count": 14,
   "id": "1c5394d3",
   "metadata": {},
   "outputs": [
    {
     "name": "stdout",
     "output_type": "stream",
     "text": [
      "[DEBUG] prompt:  System: [INST] <<SYS>>You are a helpful chatbot <</SYS>>\n",
      "Human: [INST] hi im bob [/INST]\n"
     ]
    },
    {
     "data": {
      "text/plain": [
       "\"  Hello there, Bob! *adjusts glasses* It's nice to meet you. Is there something on your mind that you'd like to talk about or ask? I'm here to help with any questions or problems you might have.\""
      ]
     },
     "execution_count": 14,
     "metadata": {},
     "output_type": "execute_result"
    }
   ],
   "source": [
    "inputs = {\"input\": \"hi im bob\"}\n",
    "response = chain.invoke(inputs)\n",
    "memory.save_context(inputs, {\"output\": response})\n",
    "response"
   ]
  },
  {
   "cell_type": "code",
   "execution_count": 15,
   "id": "a004ee37",
   "metadata": {},
   "outputs": [
    {
     "name": "stdout",
     "output_type": "stream",
     "text": [
      "[DEBUG] prompt:  System: [INST] <<SYS>>You are a helpful chatbot <</SYS>>\n",
      "Human: hi im bob\n",
      "AI:   Hello there, Bob! *adjusts glasses* It's nice to meet you. Is there something on your mind that you'd like to talk about or ask? I'm here to help with any questions or problems you might have.\n",
      "Human: [INST] please tell me my name [/INST]\n"
     ]
    },
    {
     "data": {
      "text/plain": [
       "\"  Of course, Bob! *smiling* Your name is... Bob! 😊 Is there anything else you'd like to chat about or ask? I'm here to help with any questions or problems you might have.\""
      ]
     },
     "execution_count": 15,
     "metadata": {},
     "output_type": "execute_result"
    }
   ],
   "source": [
    "inputs = {\"input\": \"please tell me my name\"}\n",
    "response = chain.invoke(inputs)\n",
    "memory.save_context(inputs, {\"output\": response})\n",
    "response"
   ]
  },
  {
   "cell_type": "code",
   "execution_count": 16,
   "id": "bdd72c90",
   "metadata": {
    "lines_to_next_cell": 2
   },
   "outputs": [
    {
     "name": "stdout",
     "output_type": "stream",
     "text": [
      "[DEBUG] prompt:  System: [INST] <<SYS>>You are a helpful chatbot <</SYS>>\n",
      "Human: hi im bob\n",
      "AI:   Hello there, Bob! *adjusts glasses* It's nice to meet you. Is there something on your mind that you'd like to talk about or ask? I'm here to help with any questions or problems you might have.\n",
      "Human: please tell me my name\n",
      "AI:   Of course, Bob! *smiling* Your name is... Bob! 😊 Is there anything else you'd like to chat about or ask? I'm here to help with any questions or problems you might have.\n",
      "Human: [INST] what is large language model? [/INST]\n"
     ]
    },
    {
     "data": {
      "text/plain": [
       "\"  Hello, Bob! *smiling* A large language model is a type of artificial intelligence (AI) model that is designed to process and analyze large amounts of natural language data, such as text or speech. These models are trained on vast amounts of data and are capable of generating language outputs that are coherent and contextually appropriate.\\n\\nLarge language models have become increasingly popular in recent years due to their ability to perform a wide range of tasks, including but not limited to:\\n\\n1. Language Translation: Large language models can be trained to translate text from one language to another with high accuracy.\\n2. Text Summarization: These models can summarize long pieces of text into shorter, more digestible versions while preserving the important information.\\n3. Chatbots: Large language models can be used to build chatbots that can engage in natural-sounding conversations with humans.\\n4. Sentiment Analysis: These models can analyze text to determine the sentiment or emotion behind it, such as detecting whether a piece of text is happy, sad, or neutral.\\n5. Language Generation: Large language models can generate coherent and contextually appropriate text, such as writing an article or creating a story.\\n\\nThere are several types of large language models, including:\\n\\n1. Recurrent Neural Networks (RNNs): These models use a sequence of neural networks to process and analyze language.\\n2. Transformer Models: These models use self-attention mechanisms to analyze language and generate outputs.\\n3. Generative Adversarial Networks (GANs): These models use two neural networks, a generator and a discriminator, to generate new text that is similar to a given training dataset.\\n\\nOverall, large language models have the potential to revolutionize many areas of natural language processing, from language translation to content creation. However, it's important to note that these models are not perfect and can still make mistakes or produce inappropriate outputs at times.\""
      ]
     },
     "execution_count": 16,
     "metadata": {},
     "output_type": "execute_result"
    }
   ],
   "source": [
    "inputs = {\"input\": \"what is large language model?\"}\n",
    "response = chain.invoke(inputs)\n",
    "memory.save_context(inputs, {\"output\": response})\n",
    "response"
   ]
  },
  {
   "cell_type": "code",
   "execution_count": 17,
   "id": "51cbeac7",
   "metadata": {},
   "outputs": [
    {
     "name": "stdout",
     "output_type": "stream",
     "text": [
      "[DEBUG] prompt:  System: [INST] <<SYS>>You are a helpful chatbot <</SYS>>\n",
      "Human: hi im bob\n",
      "AI:   Hello there, Bob! *adjusts glasses* It's nice to meet you. Is there something on your mind that you'd like to talk about or ask? I'm here to help with any questions or problems you might have.\n",
      "Human: please tell me my name\n",
      "AI:   Of course, Bob! *smiling* Your name is... Bob! 😊 Is there anything else you'd like to chat about or ask? I'm here to help with any questions or problems you might have.\n",
      "Human: what is large language model?\n",
      "AI:   Hello, Bob! *smiling* A large language model is a type of artificial intelligence (AI) model that is designed to process and analyze large amounts of natural language data, such as text or speech. These models are trained on vast amounts of data and are capable of generating language outputs that are coherent and contextually appropriate.\n",
      "\n",
      "Large language models have become increasingly popular in recent years due to their ability to perform a wide range of tasks, including but not limited to:\n",
      "\n",
      "1. Language Translation: Large language models can be trained to translate text from one language to another with high accuracy.\n",
      "2. Text Summarization: These models can summarize long pieces of text into shorter, more digestible versions while preserving the important information.\n",
      "3. Chatbots: Large language models can be used to build chatbots that can engage in natural-sounding conversations with humans.\n",
      "4. Sentiment Analysis: These models can analyze text to determine the sentiment or emotion behind it, such as detecting whether a piece of text is happy, sad, or neutral.\n",
      "5. Language Generation: Large language models can generate coherent and contextually appropriate text, such as writing an article or creating a story.\n",
      "\n",
      "There are several types of large language models, including:\n",
      "\n",
      "1. Recurrent Neural Networks (RNNs): These models use a sequence of neural networks to process and analyze language.\n",
      "2. Transformer Models: These models use self-attention mechanisms to analyze language and generate outputs.\n",
      "3. Generative Adversarial Networks (GANs): These models use two neural networks, a generator and a discriminator, to generate new text that is similar to a given training dataset.\n",
      "\n",
      "Overall, large language models have the potential to revolutionize many areas of natural language processing, from language translation to content creation. However, it's important to note that these models are not perfect and can still make mistakes or produce inappropriate outputs at times.\n",
      "Human: [INST] what did I ask you recently? [/INST]\n"
     ]
    },
    {
     "data": {
      "text/plain": [
       "\"  Hello Bob! *smiling* You recently asked me about large language models and their capabilities. Specifically, you wanted to know what a large language model is and some of the tasks it can perform. Is there anything else you'd like to chat about or ask? I'm here to help with any questions or problems you might have.\""
      ]
     },
     "execution_count": 17,
     "metadata": {},
     "output_type": "execute_result"
    }
   ],
   "source": [
    "inputs = {\"input\": \"what did I ask you recently?\"}\n",
    "response = chain.invoke(inputs)\n",
    "memory.save_context(inputs, {\"output\": response})\n",
    "response"
   ]
  }
 ],
 "metadata": {
  "jupytext": {
   "cell_metadata_filter": "-all",
   "formats": "md,ipynb",
   "main_language": "python"
  },
  "language_info": {
   "codemirror_mode": {
    "name": "ipython",
    "version": 3
   },
   "file_extension": ".py",
   "mimetype": "text/x-python",
   "name": "python",
   "nbconvert_exporter": "python",
   "pygments_lexer": "ipython3",
   "version": "3.10.12"
  }
 },
 "nbformat": 4,
 "nbformat_minor": 5
}
