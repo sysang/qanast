{
 "cells": [
  {
   "cell_type": "code",
   "execution_count": 1,
   "id": "af76e2d3",
   "metadata": {},
   "outputs": [],
   "source": [
    "import json\n",
    "import requests"
   ]
  },
  {
   "cell_type": "code",
   "execution_count": 2,
   "id": "60d7eb40",
   "metadata": {},
   "outputs": [
    {
     "data": {
      "text/plain": [
       "'{\"id\":\"cmpl-fe01deb2-c927-46b2-829e-88816c8ef828\",\"object\":\"text_completion\",\"created\":1697556383,\"model\":\"/models/llama-2-7b-chat.ggmlv3.q3_K_L.gguf\",\"choices\":[{\"text\":\"  Of course! Here are 10 fundamental steps to build an e-commerce website:\\\\n\\\\n1. Define Your Niche: Determine what products or services your website will sell, and identify your target audience.\\\\n2. Choose an E-commerce Platform: Select a suitable e-commerce platform such as Shopify, WooCommerce, or Magento based on your budget, technical skills, and desired features.\\\\n3. Plan Your Website\\'s Design: Sketch the layout of your website, including the homepage, product pages, and checkout process. Ensure it is easy to navigate and visually appealing.\\\\n4. Register a Domain Name: Choose a domain name that is easy to remember, relevant to your brand, and available for registration.\\\\n5. Set Up Hosting: Select a reliable web hosting service and configure the necessary settings for your e-commerce platform.\\\\n6. Install SSL Certificate: Secure your website with an SSL certificate to protect customer data and increase trust in your site.\\\\n7. Integrate Payment Gateway: Choose a payment gateway that supports your chosen e-commerce platform and integrates seamlessly into your website.\\\\n8. Connect with Shipping Partners: Find reliable shipping partners that can handle the logistics of getting products to customers.\\\\n9. Set Up Product Inventory Management: Manage product catalogs, inventory levels, and pricing across multiple sales channels.\\\\n10. Launch and Promote Your Website: Once your website is built, launch it and promote it through social media, email marketing, and other channels to drive traffic and sales.\\\\n\\\\nBy following these fundamental steps, you can build a successful e-commerce website that meets the needs of your customers and helps you grow your business.\",\"index\":0,\"logprobs\":null,\"finish_reason\":\"stop\"}],\"usage\":{\"prompt_tokens\":118,\"completion_tokens\":374,\"total_tokens\":492}}'"
      ]
     },
     "execution_count": 2,
     "metadata": {},
     "output_type": "execute_result"
    }
   ],
   "source": [
    "prompt = \"<s>[INST] <<SYS>>\\n You are a helpful, respectful and honest assistant. Your answer is always as concise as possible, while being informative, sufficient. Please ensure that your responses are truthful, inspiring, positive. Please do not response to question thas is inappropriate or contradictory. If you don't know the answer to a question, please don't share false information\\n<</SYS>>\\n\\n Describe 10 funcdamental steps to build a ecoomerce website [/INST]\"\n",
    "headers = { 'Content-Type' : 'application/json' }\n",
    "data = {\n",
    "    'prompt': prompt,\n",
    "    \"stop\": [\"</s>\"],\n",
    "    \"max_tokens\": 1000\n",
    "}\n",
    "r = requests.post(\n",
    "    'http://192.168.58.9:3000/v1/completions',\n",
    "    headers=headers,\n",
    "    data=json.dumps(data),\n",
    "    timeout=1200)\n",
    "r.text"
   ]
  }
 ],
 "metadata": {
  "jupytext": {
   "cell_metadata_filter": "-all",
   "formats": "md,ipynb",
   "main_language": "python"
  },
  "kernelspec": {
   "display_name": "Python 3 (ipykernel)",
   "language": "python",
   "name": "python3"
  },
  "language_info": {
   "codemirror_mode": {
    "name": "ipython",
    "version": 3
   },
   "file_extension": ".py",
   "mimetype": "text/x-python",
   "name": "python",
   "nbconvert_exporter": "python",
   "pygments_lexer": "ipython3",
   "version": "3.10.12"
  }
 },
 "nbformat": 4,
 "nbformat_minor": 5
}
