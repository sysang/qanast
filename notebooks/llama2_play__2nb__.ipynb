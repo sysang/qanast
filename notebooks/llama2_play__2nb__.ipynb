{
 "cells": [
  {
   "cell_type": "code",
   "execution_count": 2,
   "id": "af76e2d3",
   "metadata": {},
   "outputs": [],
   "source": [
    "import json\n",
    "import requests"
   ]
  },
  {
   "cell_type": "code",
   "execution_count": 3,
   "id": "60d7eb40",
   "metadata": {},
   "outputs": [
    {
     "data": {
      "text/plain": [
       "'{\"id\":\"cmpl-2c549ed7-61ac-4f0e-9725-7fb3dc15d039\",\"object\":\"text_completion\",\"created\":1697384540,\"model\":\"/models/llama-2-7b-chat.ggmlv3.q3_K_L.gguf\",\"choices\":[{\"text\":\"  Great! Here are the 10 fundamental steps to build an e-commerce website:\\\\n\\\\nStep 1: Define Your Niche - Determine what products or services you want to sell on your e-commerce website and identify a specific niche for your business.\\\\n\\\\nStep 2: Choose an E-commerce Platform - Select a suitable e-commerce platform that meets your business needs, such as Shopify, WooCommerce, Magento, etc.\\\\n\\\\nStep 3: Plan Your Website\\'s Navigation and Structure - Organize your website\\'s navigation and structure to make it easy for customers to find what they are looking for and purchase products.\\\\n\\\\nStep 4: Set Up Payment Gateway - Integrate a secure payment gateway into your e-commerce platform to enable customers to pay for their purchases safely and efficiently.\\\\n\\\\nStep 5: Add Products - Add your products to the platform, including product descriptions, images, pricing, and inventory information.\\\\n\\\\nStep 6: Optimize Product Images - Ensure that product images are high-quality, well-lit, and accurately represent the product being sold.\\\\n\\\\nStep 7: Set Up Shipping Options - Choose shipping options that meet your customers\\' needs and offer them various delivery options, including free shipping.\\\\n\\\\nStep 8: Integrate Social Media - Connect your e-commerce website to social media platforms to increase brand awareness and drive traffic to your website.\\\\n\\\\nStep 9: Optimize Product Reviews - Encourage customers to leave product reviews and respond promptly to any feedback or concerns.\\\\n\\\\nStep 10: Launch and Promote Your Website - Once your e-commerce website is set up, launch it and promote it through various marketing channels such as email marketing, advertising campaigns, and social media promotions.\\\\n\\\\nRemember, building an e-commerce website involves many details and considerations, so be sure to do your research and seek professional help if needed!\",\"index\":0,\"logprobs\":null,\"finish_reason\":\"stop\"}],\"usage\":{\"prompt_tokens\":118,\"completion_tokens\":433,\"total_tokens\":551}}'"
      ]
     },
     "execution_count": 3,
     "metadata": {},
     "output_type": "execute_result"
    }
   ],
   "source": [
    "prompt = \"<s>[INST] <<SYS>>\\n You are a helpful, respectful and honest assistant. Your answer is always as concise as possible, while being informative, sufficient. Please ensure that your responses are truthful, inspiring, positive. Please do not response to question thas is inappropriate or contradictory. If you don't know the answer to a question, please don't share false information\\n<</SYS>>\\n\\n Describe 10 funcdamental steps to build a ecoomerce website [/INST]\"\n",
    "headers = { 'Content-Type' : 'application/json' }\n",
    "data = {\n",
    "    'prompt': prompt,\n",
    "    \"stop\": [\"</s>\"],\n",
    "    \"max_tokens\": 1000\n",
    "}\n",
    "r = requests.post(\n",
    "    'http://192.168.58.9:3000/v1/completions',\n",
    "    headers=headers,\n",
    "    data=json.dumps(data),\n",
    "    timeout=1200)\n",
    "r.text"
   ]
  }
 ],
 "metadata": {
  "jupytext": {
   "cell_metadata_filter": "-all",
   "formats": "md,ipynb",
   "main_language": "python"
  },
  "language_info": {
   "codemirror_mode": {
    "name": "ipython",
    "version": 3
   },
   "file_extension": ".py",
   "mimetype": "text/x-python",
   "name": "python",
   "nbconvert_exporter": "python",
   "pygments_lexer": "ipython3",
   "version": "3.10.12"
  }
 },
 "nbformat": 4,
 "nbformat_minor": 5
}
