{
 "cells": [
  {
   "cell_type": "code",
   "execution_count": 3,
   "id": "69c53663",
   "metadata": {},
   "outputs": [
    {
     "data": {
      "application/javascript": [
       "var nb = IPython.notebook;\n",
       "var kernel = IPython.notebook.kernel;\n",
       "var command = \"NOTEBOOK_FULL_PATH = '\" + nb.base_url + nb.notebook_path + \"'\";\n",
       "kernel.execute(command);\n"
      ],
      "text/plain": [
       "<IPython.core.display.Javascript object>"
      ]
     },
     "metadata": {},
     "output_type": "display_data"
    }
   ],
   "source": [
    "%%javascript\n",
    "var nb = IPython.notebook;\n",
    "var kernel = IPython.notebook.kernel;\n",
    "var command = \"NOTEBOOK_FULL_PATH = '\" + nb.base_url + nb.notebook_path + \"'\";\n",
    "kernel.execute(command);"
   ]
  },
  {
   "cell_type": "code",
   "execution_count": 4,
   "id": "e121bed1",
   "metadata": {},
   "outputs": [
    {
     "name": "stdout",
     "output_type": "stream",
     "text": [
      "Working directory has been changed to /workspace/qna-assistant/notebooks\n"
     ]
    },
    {
     "data": {
      "text/plain": [
       "['bloomz1b1__2nb__.md',\n",
       " 'plan_and_execute_agent__2nb__.ipynb',\n",
       " 'bloomz1b1__2nb__.ipynb',\n",
       " 'llama2_rag__2nb__.ipynb',\n",
       " 'llama2_play__2nb__.md',\n",
       " 'm2m100_418M__2nb__.ipynb',\n",
       " '__pycache__',\n",
       " 'askLangchain__2nb__.md',\n",
       " 'llama2_play__2nb__.ipynb',\n",
       " 'llama2_memory__2nb__.ipynb',\n",
       " 'askLangchain__2nb__.ipynb',\n",
       " 'sgpt__2nb__.md',\n",
       " 'YT_No_tools_BabyAGI_Langchain.ipynb',\n",
       " 'llama2_rag__2nb__.md',\n",
       " 'plan_and_execute_agent__2nb__.md',\n",
       " 'llama2_memory__2nb__.md',\n",
       " 'YT_BabyAGI_Langchain_with_Tools.ipynb',\n",
       " 'm2m100_418M__2nb__.md',\n",
       " 'tokenization_small100.py',\n",
       " '.ipynb_checkpoints',\n",
       " 'sgpt__2nb__.ipynb']"
      ]
     },
     "execution_count": 4,
     "metadata": {},
     "output_type": "execute_result"
    }
   ],
   "source": [
    "# The working notebook file path is stored in NOTEBOOK_FULL_PATH\n",
    "# Change working directory to project root which is parent of NOTEBOOK_FULL_PATH\n",
    "# Typing Shift + Enter on obove cell to help proper javascript execution\n",
    "\n",
    "import os\n",
    "import time\n",
    "from pathlib import Path\n",
    "from jupyter_core.paths import jupyter_config_dir\n",
    "from traitlets.config import Config\n",
    "\n",
    "def get_config():\n",
    "  return Config()\n",
    "\n",
    "config_file = os.path.join(jupyter_config_dir(), 'jupyter_notebook_config.py')\n",
    "config_content = open(config_file).read()\n",
    "c = get_config()\n",
    "exec(config_content)\n",
    "root_dir = c['ContentsManager']['root_dir']\n",
    "project_root = Path(root_dir + NOTEBOOK_FULL_PATH).parent\n",
    "print(f'Working directory has been changed to {project_root}')\n",
    "os.chdir(project_root)\n",
    "os.listdir('./')"
   ]
  },
  {
   "cell_type": "code",
   "execution_count": 5,
   "id": "70f16804",
   "metadata": {
    "lines_to_next_cell": 0
   },
   "outputs": [],
   "source": [
    "from scipy.spatial.distance import cosine\n",
    "from sentence_transformers import SentenceTransformer"
   ]
  },
  {
   "cell_type": "code",
   "execution_count": 6,
   "id": "b2436e56",
   "metadata": {
    "lines_to_next_cell": 0
   },
   "outputs": [],
   "source": [
    "model = SentenceTransformer(\"bigscience-data/sgpt-bloom-1b7-nli\")"
   ]
  },
  {
   "cell_type": "code",
   "execution_count": 7,
   "id": "af330e39",
   "metadata": {
    "lines_to_next_cell": 0
   },
   "outputs": [],
   "source": [
    "texts = [\n",
    "    \"Kem bôi trị sẹo Kobayashi hỗ trợ ngăn ngừa và làm mờ sẹo sau phẫu thuật, sẹo bỏng, thu nhỏ các vết sẹo cũ lâu năm, sẹo thâm, sẹo phì đại mà không cần đến sự can thiệp của bác sĩ thẩm mỹ.\",\n",
    "    \"sản phẩm làm mờ sẹo\",\n",
    "    \"chăm sóc da\",\n",
    "    \"nhật bản\",\n",
    "]\n",
    "embeddings = model.encode(texts)"
   ]
  },
  {
   "cell_type": "code",
   "execution_count": 8,
   "id": "4cd020bd",
   "metadata": {},
   "outputs": [
    {
     "name": "stdout",
     "output_type": "stream",
     "text": [
      "Cosine similarity between \"Kem bôi trị sẹo Kobayashi hỗ trợ ngăn ngừa và làm mờ sẹo sau phẫu thuật, sẹo bỏng, thu nhỏ các vết sẹo cũ lâu năm, sẹo thâm, sẹo phì đại mà không cần đến sự can thiệp của bác sĩ thẩm mỹ.\" and \"sản phẩm làm mờ sẹo\" is: 0.639\n",
      "Cosine similarity between \"Kem bôi trị sẹo Kobayashi hỗ trợ ngăn ngừa và làm mờ sẹo sau phẫu thuật, sẹo bỏng, thu nhỏ các vết sẹo cũ lâu năm, sẹo thâm, sẹo phì đại mà không cần đến sự can thiệp của bác sĩ thẩm mỹ.\" and \"chăm sóc da\" is: 0.497\n",
      "Cosine similarity between \"Kem bôi trị sẹo Kobayashi hỗ trợ ngăn ngừa và làm mờ sẹo sau phẫu thuật, sẹo bỏng, thu nhỏ các vết sẹo cũ lâu năm, sẹo thâm, sẹo phì đại mà không cần đến sự can thiệp của bác sĩ thẩm mỹ.\" and \"nhật bản\" is: 0.222\n"
     ]
    }
   ],
   "source": [
    "cosine_sim_0_1 = 1 - cosine(embeddings[0], embeddings[1])\n",
    "cosine_sim_0_2 = 1 - cosine(embeddings[0], embeddings[2])\n",
    "cosine_sim_0_3 = 1 - cosine(embeddings[0], embeddings[3])\n",
    "\n",
    "print(\"Cosine similarity between \\\"%s\\\" and \\\"%s\\\" is: %.3f\" % (texts[0], texts[1], cosine_sim_0_1))\n",
    "print(\"Cosine similarity between \\\"%s\\\" and \\\"%s\\\" is: %.3f\" % (texts[0], texts[2], cosine_sim_0_2))\n",
    "print(\"Cosine similarity between \\\"%s\\\" and \\\"%s\\\" is: %.3f\" % (texts[0], texts[3], cosine_sim_0_3))"
   ]
  },
  {
   "cell_type": "code",
   "execution_count": null,
   "id": "136e3e13",
   "metadata": {},
   "outputs": [],
   "source": []
  }
 ],
 "metadata": {
  "jupytext": {
   "cell_metadata_filter": "-all",
   "formats": "md,ipynb",
   "main_language": "python"
  },
  "kernelspec": {
   "display_name": "Python 3 (ipykernel)",
   "language": "python",
   "name": "python3"
  },
  "language_info": {
   "codemirror_mode": {
    "name": "ipython",
    "version": 3
   },
   "file_extension": ".py",
   "mimetype": "text/x-python",
   "name": "python",
   "nbconvert_exporter": "python",
   "pygments_lexer": "ipython3",
   "version": "3.10.12"
  }
 },
 "nbformat": 4,
 "nbformat_minor": 5
}
