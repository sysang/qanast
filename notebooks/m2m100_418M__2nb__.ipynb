{
 "cells": [
  {
   "cell_type": "code",
   "execution_count": 1,
   "id": "758ef7ec",
   "metadata": {},
   "outputs": [
    {
     "data": {
      "application/javascript": [
       "var nb = IPython.notebook;\n",
       "var kernel = IPython.notebook.kernel;\n",
       "var command = \"NOTEBOOK_FULL_PATH = '\" + nb.base_url + nb.notebook_path + \"'\";\n",
       "kernel.execute(command);\n"
      ],
      "text/plain": [
       "<IPython.core.display.Javascript object>"
      ]
     },
     "metadata": {},
     "output_type": "display_data"
    }
   ],
   "source": [
    "%%javascript\n",
    "var nb = IPython.notebook;\n",
    "var kernel = IPython.notebook.kernel;\n",
    "var command = \"NOTEBOOK_FULL_PATH = '\" + nb.base_url + nb.notebook_path + \"'\";\n",
    "kernel.execute(command);"
   ]
  },
  {
   "cell_type": "code",
   "execution_count": 2,
   "id": "07284ed4",
   "metadata": {},
   "outputs": [
    {
     "name": "stdout",
     "output_type": "stream",
     "text": [
      "Working directory has been changed to /workspace/qna-assistant/notebooks\n"
     ]
    },
    {
     "data": {
      "text/plain": [
       "['bloomz1b1__2nb__.md',\n",
       " 'plan_and_execute_agent__2nb__.ipynb',\n",
       " 'bloomz1b1__2nb__.ipynb',\n",
       " 'llama2_rag__2nb__.ipynb',\n",
       " 'llama2_play__2nb__.md',\n",
       " 'm2m100_418M__2nb__.ipynb',\n",
       " '__pycache__',\n",
       " 'askLangchain__2nb__.md',\n",
       " 'llama2_play__2nb__.ipynb',\n",
       " 'llama2_memory__2nb__.ipynb',\n",
       " 'askLangchain__2nb__.ipynb',\n",
       " 'YT_No_tools_BabyAGI_Langchain.ipynb',\n",
       " 'llama2_rag__2nb__.md',\n",
       " 'plan_and_execute_agent__2nb__.md',\n",
       " 'llama2_memory__2nb__.md',\n",
       " 'YT_BabyAGI_Langchain_with_Tools.ipynb',\n",
       " 'm2m100_418M__2nb__.md',\n",
       " 'tokenization_small100.py',\n",
       " '.ipynb_checkpoints']"
      ]
     },
     "execution_count": 2,
     "metadata": {},
     "output_type": "execute_result"
    }
   ],
   "source": [
    "# The working notebook file path is stored in NOTEBOOK_FULL_PATH\n",
    "# Change working directory to project root which is parent of NOTEBOOK_FULL_PATH\n",
    "# Typing Shift + Enter on obove cell to help proper javascript execution\n",
    "\n",
    "import os\n",
    "import time\n",
    "from pathlib import Path\n",
    "from jupyter_core.paths import jupyter_config_dir\n",
    "from traitlets.config import Config\n",
    "\n",
    "def get_config():\n",
    "  return Config()\n",
    "\n",
    "config_file = os.path.join(jupyter_config_dir(), 'jupyter_notebook_config.py')\n",
    "config_content = open(config_file).read()\n",
    "c = get_config()\n",
    "exec(config_content)\n",
    "root_dir = c['ContentsManager']['root_dir']\n",
    "project_root = Path(root_dir + NOTEBOOK_FULL_PATH).parent\n",
    "print(f'Working directory has been changed to {project_root}')\n",
    "os.chdir(project_root)\n",
    "os.listdir('./')"
   ]
  },
  {
   "cell_type": "code",
   "execution_count": 3,
   "id": "a16c8ec6",
   "metadata": {
    "lines_to_next_cell": 0
   },
   "outputs": [],
   "source": [
    "from transformers import M2M100ForConditionalGeneration, M2M100Tokenizer"
   ]
  },
  {
   "cell_type": "code",
   "execution_count": null,
   "id": "899508c0",
   "metadata": {
    "lines_to_next_cell": 0
   },
   "outputs": [
    {
     "data": {
      "application/vnd.jupyter.widget-view+json": {
       "model_id": "3d131081ac2545088add3ec66cc97f9e",
       "version_major": 2,
       "version_minor": 0
      },
      "text/plain": [
       "Downloading (…)lve/main/config.json:   0%|          | 0.00/908 [00:00<?, ?B/s]"
      ]
     },
     "metadata": {},
     "output_type": "display_data"
    },
    {
     "data": {
      "application/vnd.jupyter.widget-view+json": {
       "model_id": "76bbde05f1da4bd6acade1af9b18858c",
       "version_major": 2,
       "version_minor": 0
      },
      "text/plain": [
       "Downloading pytorch_model.bin:   0%|          | 0.00/1.94G [00:00<?, ?B/s]"
      ]
     },
     "metadata": {},
     "output_type": "display_data"
    }
   ],
   "source": [
    "model = M2M100ForConditionalGeneration.from_pretrained(\"facebook/m2m100_418M\")\n",
    "tokenizer = M2M100Tokenizer.from_pretrained(\"facebook/m2m100_418M\")"
   ]
  },
  {
   "cell_type": "code",
   "execution_count": 6,
   "id": "989b5a42",
   "metadata": {
    "lines_to_next_cell": 0
   },
   "outputs": [
    {
     "data": {
      "text/plain": [
       "[\"Ten Hag's seat is very sliding despite Sir Jim Ratcliffe's promises, according to which, the British billionaire says the Dutch coach will continue to work if he takes over the role of sports manager at Old Trafford.\"]"
      ]
     },
     "execution_count": 6,
     "metadata": {},
     "output_type": "execute_result"
    }
   ],
   "source": [
    "src_text = \"Chiếc ghế của Ten Hag đang rất lung lay bất chấp những lời đảm bảo của Sir Jim Ratcliffe. Theo đó, tỷ phú Anh khẳng định HLV người Hà Lan sẽ tiếp tục làm việc nếu ông đảm nhận vai trò giám đốc thể thao tại Old Trafford.\"\n",
    "tokenizer.src_lang = \"vi\"\n",
    "encoded = tokenizer(src_text, return_tensors=\"pt\")\n",
    "generated_tokens = model.generate(**encoded, forced_bos_token_id=tokenizer.get_lang_id(\"en\"))\n",
    "tokenizer.batch_decode(generated_tokens, skip_special_tokens=True)"
   ]
  },
  {
   "cell_type": "code",
   "execution_count": 7,
   "id": "05dc6aaf",
   "metadata": {
    "lines_to_next_cell": 0
   },
   "outputs": [
    {
     "data": {
      "text/plain": [
       "['Tuy nhiên, liệu toán học có thực sự là một ngôn ngữ, như tiếng Anh hay tiếng Trung? Để trả lời câu hỏi, nó giúp biết ngôn ngữ là gì và cách từ vựng và ngữ pháp của toán học được sử dụng để xây dựng các cụm từ.']"
      ]
     },
     "execution_count": 7,
     "metadata": {},
     "output_type": "execute_result"
    }
   ],
   "source": [
    "src_text = \"Yet, is mathematics truly a language, like English or Chinese? To answer the question, it helps to know what language is and how the vocabulary and grammar of mathematics are used to construct sentences.\"\n",
    "tokenizer.src_lang = \"en\"\n",
    "encoded = tokenizer(src_text, return_tensors=\"pt\")\n",
    "generated_tokens = model.generate(**encoded, forced_bos_token_id=tokenizer.get_lang_id(\"vi\"))\n",
    "tokenizer.batch_decode(generated_tokens, skip_special_tokens=True)"
   ]
  },
  {
   "cell_type": "code",
   "execution_count": 8,
   "id": "294e3a99",
   "metadata": {},
   "outputs": [
    {
     "data": {
      "text/plain": [
       "['Kobayashi wound therapy cream from Japan helps prevent and blurry after surgery wounds, burns, minimize old wounds, deep wounds, edema wounds.']"
      ]
     },
     "execution_count": 8,
     "metadata": {},
     "output_type": "execute_result"
    }
   ],
   "source": [
    "src_text = \"Kem trị sẹo Kobayashi từ Nhật Bản giúp ngăn ngừa và làm mờ sẹo sau phẫu thuật, sẹo bỏng, thu nhỏ các vết sẹo cũ, sẹo thâm, sẹo phì đại.\"\n",
    "tokenizer.src_lang = \"vi\"\n",
    "encoded = tokenizer(src_text, return_tensors=\"pt\")\n",
    "generated_tokens = model.generate(**encoded, forced_bos_token_id=tokenizer.get_lang_id(\"en\"))\n",
    "tokenizer.batch_decode(generated_tokens, skip_special_tokens=True)"
   ]
  },
  {
   "cell_type": "code",
   "execution_count": null,
   "id": "81826e26",
   "metadata": {},
   "outputs": [],
   "source": []
  }
 ],
 "metadata": {
  "jupytext": {
   "cell_metadata_filter": "-all",
   "formats": "md,ipynb",
   "main_language": "python"
  },
  "language_info": {
   "codemirror_mode": {
    "name": "ipython",
    "version": 3
   },
   "file_extension": ".py",
   "mimetype": "text/x-python",
   "name": "python",
   "nbconvert_exporter": "python",
   "pygments_lexer": "ipython3",
   "version": "3.10.12"
  }
 },
 "nbformat": 4,
 "nbformat_minor": 5
}
