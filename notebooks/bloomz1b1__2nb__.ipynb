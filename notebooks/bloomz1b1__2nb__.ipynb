{
 "cells": [
  {
   "cell_type": "code",
   "execution_count": 1,
   "id": "2e0ac4a1",
   "metadata": {},
   "outputs": [
    {
     "data": {
      "application/javascript": [
       "var nb = IPython.notebook;\n",
       "var kernel = IPython.notebook.kernel;\n",
       "var command = \"NOTEBOOK_FULL_PATH = '\" + nb.base_url + nb.notebook_path + \"'\";\n",
       "kernel.execute(command);\n"
      ],
      "text/plain": [
       "<IPython.core.display.Javascript object>"
      ]
     },
     "metadata": {},
     "output_type": "display_data"
    }
   ],
   "source": [
    "%%javascript\n",
    "var nb = IPython.notebook;\n",
    "var kernel = IPython.notebook.kernel;\n",
    "var command = \"NOTEBOOK_FULL_PATH = '\" + nb.base_url + nb.notebook_path + \"'\";\n",
    "kernel.execute(command);"
   ]
  },
  {
   "cell_type": "code",
   "execution_count": 2,
   "id": "8a30fba7",
   "metadata": {},
   "outputs": [
    {
     "name": "stdout",
     "output_type": "stream",
     "text": [
      "Working directory has been changed to /workspace/qna-assistant/notebooks\n"
     ]
    },
    {
     "data": {
      "text/plain": [
       "['bloomz1b1__2nb__.md',\n",
       " 'plan_and_execute_agent__2nb__.ipynb',\n",
       " 'bloomz1b1__2nb__.ipynb',\n",
       " 'llama2_rag__2nb__.ipynb',\n",
       " 'llama2_play__2nb__.md',\n",
       " '__pycache__',\n",
       " 'askLangchain__2nb__.md',\n",
       " 'llama2_play__2nb__.ipynb',\n",
       " 'llama2_memory__2nb__.ipynb',\n",
       " 'askLangchain__2nb__.ipynb',\n",
       " 'YT_No_tools_BabyAGI_Langchain.ipynb',\n",
       " 'llama2_rag__2nb__.md',\n",
       " 'plan_and_execute_agent__2nb__.md',\n",
       " 'llama2_memory__2nb__.md',\n",
       " 'YT_BabyAGI_Langchain_with_Tools.ipynb',\n",
       " 'tokenization_small100.py',\n",
       " '.ipynb_checkpoints']"
      ]
     },
     "execution_count": 2,
     "metadata": {},
     "output_type": "execute_result"
    }
   ],
   "source": [
    "# The working notebook file path is stored in NOTEBOOK_FULL_PATH\n",
    "# Change working directory to project root which is parent of NOTEBOOK_FULL_PATH\n",
    "# Typing Shift + Enter on obove cell to help proper javascript execution\n",
    "\n",
    "import os\n",
    "import time\n",
    "from pathlib import Path\n",
    "from jupyter_core.paths import jupyter_config_dir\n",
    "from traitlets.config import Config\n",
    "\n",
    "def get_config():\n",
    "  return Config()\n",
    "\n",
    "config_file = os.path.join(jupyter_config_dir(), 'jupyter_notebook_config.py')\n",
    "config_content = open(config_file).read()\n",
    "c = get_config()\n",
    "exec(config_content)\n",
    "root_dir = c['ContentsManager']['root_dir']\n",
    "project_root = Path(root_dir + NOTEBOOK_FULL_PATH).parent\n",
    "print(f'Working directory has been changed to {project_root}')\n",
    "os.chdir(project_root)\n",
    "os.listdir('./')"
   ]
  },
  {
   "cell_type": "code",
   "execution_count": 3,
   "id": "68d0e5e8",
   "metadata": {
    "lines_to_next_cell": 0
   },
   "outputs": [],
   "source": [
    "from transformers import AutoModelForCausalLM, AutoTokenizer"
   ]
  },
  {
   "cell_type": "code",
   "execution_count": 4,
   "id": "4214422d",
   "metadata": {
    "lines_to_next_cell": 0
   },
   "outputs": [
    {
     "data": {
      "application/vnd.jupyter.widget-view+json": {
       "model_id": "b98f78231ab944f09a61a0a71528953a",
       "version_major": 2,
       "version_minor": 0
      },
      "text/plain": [
       "Downloading (…)okenizer_config.json:   0%|          | 0.00/222 [00:00<?, ?B/s]"
      ]
     },
     "metadata": {},
     "output_type": "display_data"
    },
    {
     "data": {
      "application/vnd.jupyter.widget-view+json": {
       "model_id": "1f7da1f59540494b8d1b3aff174daf5a",
       "version_major": 2,
       "version_minor": 0
      },
      "text/plain": [
       "Downloading tokenizer.json:   0%|          | 0.00/14.5M [00:00<?, ?B/s]"
      ]
     },
     "metadata": {},
     "output_type": "display_data"
    },
    {
     "data": {
      "application/vnd.jupyter.widget-view+json": {
       "model_id": "9af546477b5d481cac161f69ad777dd7",
       "version_major": 2,
       "version_minor": 0
      },
      "text/plain": [
       "Downloading (…)cial_tokens_map.json:   0%|          | 0.00/85.0 [00:00<?, ?B/s]"
      ]
     },
     "metadata": {},
     "output_type": "display_data"
    },
    {
     "data": {
      "application/vnd.jupyter.widget-view+json": {
       "model_id": "5361de0bf2e04c3eb2a402b90bd3adb6",
       "version_major": 2,
       "version_minor": 0
      },
      "text/plain": [
       "Downloading (…)lve/main/config.json:   0%|          | 0.00/715 [00:00<?, ?B/s]"
      ]
     },
     "metadata": {},
     "output_type": "display_data"
    },
    {
     "data": {
      "application/vnd.jupyter.widget-view+json": {
       "model_id": "2f8dbcef261d4620bea40229062d3d04",
       "version_major": 2,
       "version_minor": 0
      },
      "text/plain": [
       "Downloading model.safetensors:   0%|          | 0.00/2.13G [00:00<?, ?B/s]"
      ]
     },
     "metadata": {},
     "output_type": "display_data"
    }
   ],
   "source": [
    "checkpoint = \"bigscience/bloomz-1b1\"\n",
    "\n",
    "tokenizer = AutoTokenizer.from_pretrained(checkpoint)\n",
    "model = AutoModelForCausalLM.from_pretrained(checkpoint)"
   ]
  },
  {
   "cell_type": "code",
   "execution_count": 9,
   "id": "984e8143",
   "metadata": {},
   "outputs": [
    {
     "name": "stdout",
     "output_type": "stream",
     "text": [
      "vi: Chiếc ghế của Ten Hag đang rất lung lay bất chấp những lời đảm bảo của Sir Jim Ratcliffe. Theo đó, tỷ phú Anh khẳng định HLV người Hà Lan sẽ tiếp tục làm việc nếu ông đảm nhận vai trò giám đốc thể thao tại Old Trafford. \n",
      "en: Sir\n"
     ]
    }
   ],
   "source": [
    "inputs = tokenizer.encode(\"Translate to Vietnamese: Je t’aime.\", return_tensors=\"pt\")\n",
    "outputs = model.generate(inputs)\n",
    "print(tokenizer.decode(outputs[0]))"
   ]
  },
  {
   "cell_type": "code",
   "execution_count": null,
   "id": "2a41dc42",
   "metadata": {},
   "outputs": [],
   "source": []
  }
 ],
 "metadata": {
  "jupytext": {
   "cell_metadata_filter": "-all",
   "formats": "md,ipynb",
   "main_language": "python"
  },
  "kernelspec": {
   "display_name": "Python 3 (ipykernel)",
   "language": "python",
   "name": "python3"
  },
  "language_info": {
   "codemirror_mode": {
    "name": "ipython",
    "version": 3
   },
   "file_extension": ".py",
   "mimetype": "text/x-python",
   "name": "python",
   "nbconvert_exporter": "python",
   "pygments_lexer": "ipython3",
   "version": "3.10.12"
  }
 },
 "nbformat": 4,
 "nbformat_minor": 5
}
