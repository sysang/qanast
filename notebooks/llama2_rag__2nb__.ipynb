{
 "cells": [
  {
   "cell_type": "code",
   "execution_count": 50,
   "id": "7bf1eae3",
   "metadata": {},
   "outputs": [],
   "source": [
    "from typing import Any, List, Mapping, Optional\n",
    "import json\n",
    "\n",
    "import requests\n",
    "\n",
    "from langchain.callbacks.manager import CallbackManagerForLLMRun\n",
    "from langchain.llms.base import LLM"
   ]
  },
  {
   "cell_type": "code",
   "execution_count": 51,
   "id": "e8d210a6",
   "metadata": {},
   "outputs": [],
   "source": [
    "class CustomLLM(LLM):\n",
    "    max_tokens: int\n",
    "    api_url: str\n",
    "\n",
    "    @property\n",
    "    def _llm_type(self) -> str:\n",
    "        return \"custom\"\n",
    "\n",
    "    def _call(\n",
    "        self,\n",
    "        prompt: str,\n",
    "        stop: Optional[List[str]] = None,\n",
    "        run_manager: Optional[CallbackManagerForLLMRun] = None,\n",
    "        **kwargs: Any,\n",
    "    ) -> str:\n",
    "        if stop is not None:\n",
    "            raise ValueError(\"stop kwargs are not permitted.\")\n",
    "\n",
    "        headers = { 'Content-Type' : 'application/json' }\n",
    "\n",
    "        # prompt_tpl = f\"<s>[INST] <<SYS>>\\n You are a helpful, respectful and honest assistant. \\\n",
    "        # Your answer is always as concise as possible, while being informative, sufficient. \\\n",
    "        # Please ensure that your responses are truthful, inspiring, positive. Please do not \\\n",
    "        # response to question thas is inappropriate or contradictory. If you don't know the \\\n",
    "        # answer to a question, please don't share false information\\n<</SYS>>\\n\\n {prompt} [/INST]\"\n",
    "\n",
    "        context = \"\"\"OpenAI CEO Sam Altman has announced internally that the company is targeting $1.3 billion in annual revenue, according to The Information.\n",
    "That's 30 percent more than the $1 billion in annual revenue leaked over the summer, which was already said to have exceeded investor expectations. The new figure suggests more than $100 million in monthly revenue.\n",
    "The biggest revenue driver is subscriptions to ChatGPT Plus. Last year, without the ChatGPT Plus offering, OpenAI had revenue of only $28 million, with a loss of $540 million, according to The Information.\n",
    "Due to the increase in revenue and rapid growth in recent months, OpenAI is estimated to have a new valuation of up to $90 billion. The goal is for employees to be able to sell their shares to outside investors at that level.\"\"\"\n",
    "\n",
    "        question = \"does annual revenue meet investor expectations? Yes or no?\"\n",
    "\n",
    "        prompt_tpl = f\"<s>[INST] <<SYS>>\\n You are a helpful, informative assistant. \\\n",
    "        Your answer is always as concise as possible. If you don't know the \\\n",
    "        answer to a question, please don't share false information\\n<</SYS>>\\n\\nGive short answer for the \\\n",
    "        question based only on the following context:\\n{context}\\n\\n Question: {question}[/INST]\"\n",
    "\n",
    "        data = {\n",
    "            'prompt': prompt_tpl,\n",
    "            \"stop\": [\"</s>\"],\n",
    "            \"max_tokens\": self.max_tokens\n",
    "        }\n",
    "        r = requests.post(\n",
    "            self.api_url,\n",
    "            headers=headers,\n",
    "            data=json.dumps(data),\n",
    "            timeout=1200)\n",
    "\n",
    "        response_data = r.json()\n",
    "\n",
    "        return response_data['choices'][0]['text']\n",
    "\n",
    "    @property\n",
    "    def _identifying_params(self) -> Mapping[str, Any]:\n",
    "        \"\"\"Get the identifying parameters.\"\"\"\n",
    "        return {\n",
    "            \"max_tokens\": self.max_tokens,\n",
    "            \"api_url\": self.api_url\n",
    "        }\n",
    "\n",
    "llm = CustomLLM(max_tokens=500, api_url=\"http://192.168.58.9:3000/v1/completions\")"
   ]
  },
  {
   "cell_type": "code",
   "execution_count": 52,
   "id": "8d581f23",
   "metadata": {},
   "outputs": [
    {
     "data": {
      "text/plain": [
       "'  According to the information provided, the answer to whether annual revenue meets investor expectations is YES.'"
      ]
     },
     "execution_count": 52,
     "metadata": {},
     "output_type": "execute_result"
    }
   ],
   "source": [
    "llm(\"Describe 10 funcdamental steps to build a ecoomerce website\")"
   ]
  }
 ],
 "metadata": {
  "jupytext": {
   "cell_metadata_filter": "-all",
   "formats": "md,ipynb",
   "main_language": "python"
  },
  "kernelspec": {
   "display_name": "Python 3 (ipykernel)",
   "language": "python",
   "name": "python3"
  },
  "language_info": {
   "codemirror_mode": {
    "name": "ipython",
    "version": 3
   },
   "file_extension": ".py",
   "mimetype": "text/x-python",
   "name": "python",
   "nbconvert_exporter": "python",
   "pygments_lexer": "ipython3",
   "version": "3.10.12"
  }
 },
 "nbformat": 4,
 "nbformat_minor": 5
}
