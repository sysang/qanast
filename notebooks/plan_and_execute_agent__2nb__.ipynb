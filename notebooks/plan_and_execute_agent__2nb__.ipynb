{
 "cells": [
  {
   "cell_type": "code",
   "execution_count": 11,
   "id": "760eb2eb",
   "metadata": {
    "lines_to_next_cell": 0
   },
   "outputs": [
    {
     "data": {
      "application/javascript": [
       "var nb = IPython.notebook;\n",
       "var kernel = IPython.notebook.kernel;\n",
       "var command = \"NOTEBOOK_FULL_PATH = '\" + nb.base_url + nb.notebook_path + \"'\";\n",
       "kernel.execute(command);\n"
      ],
      "text/plain": [
       "<IPython.core.display.Javascript object>"
      ]
     },
     "metadata": {},
     "output_type": "display_data"
    }
   ],
   "source": [
    "%%javascript\n",
    "var nb = IPython.notebook;\n",
    "var kernel = IPython.notebook.kernel;\n",
    "var command = \"NOTEBOOK_FULL_PATH = '\" + nb.base_url + nb.notebook_path + \"'\";\n",
    "kernel.execute(command);"
   ]
  },
  {
   "cell_type": "code",
   "execution_count": 12,
   "id": "5c4f898f",
   "metadata": {},
   "outputs": [
    {
     "name": "stdout",
     "output_type": "stream",
     "text": [
      "Working directory has been changed to /workspace/qna-assistant\n"
     ]
    },
    {
     "data": {
      "text/plain": [
       "['plan_and_execute_agent__2nb__.ipynb',\n",
       " '.env',\n",
       " '.git',\n",
       " '__pycache__',\n",
       " 'askLangchain__2nb__.md',\n",
       " 'typesense-data',\n",
       " 'askLangchain__2nb__.ipynb',\n",
       " 'langchain_doc_sitemap.py',\n",
       " 'tmp',\n",
       " 'docker-compose.yml',\n",
       " 'search.py',\n",
       " '.gitignore',\n",
       " 'plan_and_execute_agent__2nb__.md',\n",
       " 'my-crawler',\n",
       " 'tags',\n",
       " 'requirements.txt',\n",
       " '.ipynb_checkpoints']"
      ]
     },
     "execution_count": 12,
     "metadata": {},
     "output_type": "execute_result"
    }
   ],
   "source": [
    "# The working notebook file path is stored in NOTEBOOK_FULL_PATH\n",
    "# Change working directory to project root which is parent of NOTEBOOK_FULL_PATH\n",
    "# Typing Shift + Enter on obove cell to help proper javascript execution\n",
    "\n",
    "import os\n",
    "import time\n",
    "from pathlib import Path\n",
    "from jupyter_core.paths import jupyter_config_dir\n",
    "from traitlets.config import Config\n",
    "\n",
    "def get_config():\n",
    "  return Config()\n",
    "\n",
    "config_file = os.path.join(jupyter_config_dir(), 'jupyter_notebook_config.py')\n",
    "config_content = open(config_file).read()\n",
    "c = get_config()\n",
    "exec(config_content)\n",
    "root_dir = c['ContentsManager']['root_dir']\n",
    "project_root = Path(root_dir + NOTEBOOK_FULL_PATH).parent\n",
    "print(f'Working directory has been changed to {project_root}')\n",
    "os.chdir(project_root)\n",
    "os.listdir('./')"
   ]
  },
  {
   "cell_type": "code",
   "execution_count": 13,
   "id": "c09f6b77",
   "metadata": {},
   "outputs": [
    {
     "data": {
      "text/plain": [
       "True"
      ]
     },
     "execution_count": 13,
     "metadata": {},
     "output_type": "execute_result"
    }
   ],
   "source": [
    "from dotenv import load_dotenv\n",
    "from typing import Optional, Type\n",
    "import arrow\n",
    "\n",
    "from langchain.chat_models import ChatOpenAI\n",
    "from langchain.experimental.plan_and_execute import PlanAndExecute, load_agent_executor, load_chat_planner\n",
    "from langchain.llms import OpenAI\n",
    "from langchain import SerpAPIWrapper\n",
    "from langchain.agents.tools import Tool\n",
    "from langchain import LLMMathChain\n",
    "from langchain.tools.base import BaseTool\n",
    "from langchain.callbacks.manager import (\n",
    "    AsyncCallbackManagerForToolRun,\n",
    "    CallbackManagerForToolRun,\n",
    ")\n",
    "from langchain.utilities.duckduckgo_search import DuckDuckGoSearchAPIWrapper\n",
    "\n",
    "\n",
    "load_dotenv()"
   ]
  },
  {
   "cell_type": "code",
   "execution_count": 14,
   "id": "74b203a4",
   "metadata": {},
   "outputs": [
    {
     "data": {
      "text/plain": [
       "'09:59:19 Saturday, July 22, 2023'"
      ]
     },
     "execution_count": 14,
     "metadata": {},
     "output_type": "execute_result"
    }
   ],
   "source": [
    "class CurrentDateTimeIndicator(BaseTool):\n",
    "    name = 'current_date_time'\n",
    "    description = \"Useful for when you need to know current date or current time\"\n",
    "\n",
    "    def _run(\n",
    "        self, query: str, run_manager: Optional[CallbackManagerForToolRun] = None\n",
    "    ) -> str:\n",
    "        \"\"\"Use the tool.\"\"\"\n",
    "        utc = arrow.utcnow()\n",
    "        return utc.format('HH:mm:ss dddd, MMMM D, YYYY')\n",
    "\n",
    "    async def _arun(\n",
    "        self, query: str, run_manager: Optional[AsyncCallbackManagerForToolRun] = None\n",
    "    ) -> str:\n",
    "        \"\"\"Use the tool asynchronously.\"\"\"\n",
    "        raise NotImplementedError(\"custom_search does not support async\")\n",
    "\n",
    "current_date_time_tool = CurrentDateTimeIndicator()\n",
    "current_date_time_tool.run(tool_input={'query': None})"
   ]
  },
  {
   "cell_type": "code",
   "execution_count": 15,
   "id": "fde5ef8e",
   "metadata": {},
   "outputs": [
    {
     "data": {
      "text/plain": [
       "\"Leonardo DiCaprio started dating hot 25 year olds back in the roaring '90s and...truly nothing has changed! Other than the people he's dating, of course, because lord knows this man won't stay... The actor made headlines last year for breaking up with his 25-year-old girlfriend Camila Morrone, further fuelling the theory that he does not date any women over that age. But now, the Hollywood star reportedly appears to be reaching even younger, having been linked to a 19-year-old Israeli model, Eden Polani. Special Series Main Character of the Day Leo DiCaprio's dating history is part of our obsession with staying young forever February 9, 20234:58 PM ET Manuela López Restrepo Enlarge this image... Whether or not that's true, it's rumored that his latest girlfriend is Israeli model, 19-year-old Eden Polani. Main image, Leonardo DiCaprio has become the subject of jokes on social media... The 25-year-old age limit was again brought up last year when he split from model Camila Morrone shortly after she turned 25. However, DiCaprio might be aging up as he was spotted at Coachella...\""
      ]
     },
     "execution_count": 15,
     "metadata": {},
     "output_type": "execute_result"
    }
   ],
   "source": [
    "search = DuckDuckGoSearchAPIWrapper()\n",
    "search.run(\"Leo DiCaprio's girlfriend current age\")"
   ]
  },
  {
   "cell_type": "code",
   "execution_count": 16,
   "id": "f69186e5",
   "metadata": {},
   "outputs": [],
   "source": [
    "llm = OpenAI(temperature=0)\n",
    "llm_math_chain = LLMMathChain.from_llm(llm=llm, verbose=True)\n",
    "tools = [\n",
    "    Tool(\n",
    "        name = \"Search\",\n",
    "        func=search.run,\n",
    "        description=\"useful for when you need to answer questions about current events\"\n",
    "    ),\n",
    "    Tool(\n",
    "        name=\"Calculator\",\n",
    "        func=llm_math_chain.run,\n",
    "        description=\"useful for when you need to answer questions about math\"\n",
    "    ),\n",
    "    current_date_time_tool,\n",
    "]\n",
    "model = ChatOpenAI(temperature=0)\n",
    "planner = load_chat_planner(model)\n",
    "executor = load_agent_executor(model, tools, verbose=True)\n",
    "agent = PlanAndExecute(planner=planner, executor=executor, verbose=True)"
   ]
  },
  {
   "cell_type": "code",
   "execution_count": 17,
   "id": "3c0c3ebb",
   "metadata": {},
   "outputs": [
    {
     "name": "stdout",
     "output_type": "stream",
     "text": [
      "\n",
      "\n",
      "\u001b[1m> Entering new PlanAndExecute chain...\u001b[0m\n",
      "steps=[Step(value=\"Search for information about Leo DiCaprio's girlfriend.\"), Step(value='Find her current age.'), Step(value='Calculate her current age raised to the 0.43 power.'), Step(value=\"Given the above steps taken, respond to the user's original question.\\n\\n\")]\n",
      "\n",
      "\u001b[1m> Entering new AgentExecutor chain...\u001b[0m\n",
      "\u001b[32;1m\u001b[1;3mAction:\n",
      "{\n",
      "  \"action\": \"Search\",\n",
      "  \"action_input\": \"Leo DiCaprio girlfriend\"\n",
      "}\u001b[0m\n",
      "\n",
      "\u001b[1m> Finished chain.\u001b[0m\n",
      "*****\n",
      "\n",
      "Step: Search for information about Leo DiCaprio's girlfriend.\n",
      "\n",
      "Response: Action:\n",
      "{\n",
      "  \"action\": \"Search\",\n",
      "  \"action_input\": \"Leo DiCaprio girlfriend\"\n",
      "}\n",
      "\n",
      "\u001b[1m> Entering new AgentExecutor chain...\u001b[0m\n",
      "\u001b[32;1m\u001b[1;3mAction:\n",
      "```\n",
      "{\n",
      "  \"action\": \"Search\",\n",
      "  \"action_input\": \"Leo DiCaprio girlfriend age\"\n",
      "}\n",
      "```\u001b[0m\n",
      "Observation: \u001b[36;1m\u001b[1;3mJeff J Mitchell/Getty Images Welcome to a new NPR series where we spotlight the people and things making headlines — and the stories behind them. The 48-year-old generated outrage online when it... They were first spotted together in 2017 and little has come to be known about their romance, other than DiCaprio's uncanny ability to turn into a viral meme and their eyebrow-raising age gap... When Leonardo DiCaprio's girlfriend, Camila Morrone, turned 25 in June, fans across social media braced themselves for \"the final countdown\" of the relationship, given that the 47-year-old... Leonardo DiCaprio started dating hot 25 year olds back in the roaring '90s and...truly nothing has changed! Other than the people he's dating, of course, because lord knows this man won't... Jan. 13, 2020. In a 2019 interview with The Times, Morrone spoke candidly about her almost 25-year age gap with DiCaprio while expressing her frustration with the media's fixation on her dating ...\u001b[0m\n",
      "Thought:\u001b[32;1m\u001b[1;3mBased on the search results, it seems that Camila Morrone, Leonardo DiCaprio's girlfriend, turned 25 in June. Therefore, her current age would be 25. \n",
      "\n",
      "Action:\n",
      "```\n",
      "{\n",
      "  \"action\": \"Final Answer\",\n",
      "  \"action_input\": \"Camila Morrone's current age is 25.\"\n",
      "}\n",
      "```\u001b[0m\n",
      "\n",
      "\u001b[1m> Finished chain.\u001b[0m\n",
      "*****\n",
      "\n",
      "Step: Find her current age.\n",
      "\n",
      "Response: Camila Morrone's current age is 25.\n",
      "\n",
      "\u001b[1m> Entering new AgentExecutor chain...\u001b[0m\n",
      "\u001b[32;1m\u001b[1;3mAction:\n",
      "```{\"action\": \"Calculator\", \"action_input\": \"25^0.43\"}```\u001b[0m\n",
      "\n",
      "\u001b[1m> Entering new LLMMathChain chain...\u001b[0m\n",
      "25^0.43\u001b[32;1m\u001b[1;3m```text\n",
      "25**0.43\n",
      "```\n",
      "...numexpr.evaluate(\"25**0.43\")...\n",
      "\u001b[0m\n",
      "Answer: \u001b[33;1m\u001b[1;3m3.991298452658078\u001b[0m\n",
      "\u001b[1m> Finished chain.\u001b[0m\n",
      "\n",
      "Observation: \u001b[33;1m\u001b[1;3mAnswer: 3.991298452658078\u001b[0m\n",
      "Thought:\u001b[32;1m\u001b[1;3mI have calculated the value of 25 raised to the power of 0.43, and the result is approximately 3.991298452658078.\u001b[0m\n",
      "\n",
      "\u001b[1m> Finished chain.\u001b[0m\n",
      "*****\n",
      "\n",
      "Step: Calculate her current age raised to the 0.43 power.\n",
      "\n",
      "Response: I have calculated the value of 25 raised to the power of 0.43, and the result is approximately 3.991298452658078.\n",
      "\n",
      "\u001b[1m> Entering new AgentExecutor chain...\u001b[0m\n",
      "\u001b[32;1m\u001b[1;3mAction:\n",
      "```{\n",
      "  \"action\": \"Final Answer\",\n",
      "  \"action_input\": \"Camila Morrone's current age is 25. Her age raised to the power of 0.43 is approximately 3.991298452658078.\"\n",
      "}```\u001b[0m\n",
      "\n",
      "\u001b[1m> Finished chain.\u001b[0m\n",
      "*****\n",
      "\n",
      "Step: Given the above steps taken, respond to the user's original question.\n",
      "\n",
      "\n",
      "\n",
      "Response: Camila Morrone's current age is 25. Her age raised to the power of 0.43 is approximately 3.991298452658078.\n",
      "\u001b[1m> Finished chain.\u001b[0m\n"
     ]
    },
    {
     "data": {
      "text/plain": [
       "\"Camila Morrone's current age is 25. Her age raised to the power of 0.43 is approximately 3.991298452658078.\""
      ]
     },
     "execution_count": 17,
     "metadata": {},
     "output_type": "execute_result"
    }
   ],
   "source": [
    "agent.run(\"Who is Leo DiCaprio's girlfriend? What is her current age raised to the 0.43 power?\")"
   ]
  },
  {
   "cell_type": "code",
   "execution_count": 18,
   "id": "2239b67e",
   "metadata": {},
   "outputs": [
    {
     "name": "stdout",
     "output_type": "stream",
     "text": [
      "\n",
      "\n",
      "\u001b[1m> Entering new PlanAndExecute chain...\u001b[0m\n",
      "steps=[Step(value='Determine the current year.'), Step(value='Determine the year in which the Qatar World Cup took place.'), Step(value='Calculate the difference between the current year and the year of the Qatar World Cup.'), Step(value=\"Given the above steps taken, respond to the user's original question. \\n\\n\")]\n",
      "\n",
      "\u001b[1m> Entering new AgentExecutor chain...\u001b[0m\n",
      "\u001b[32;1m\u001b[1;3mAction:\n",
      "```\n",
      "{\n",
      "  \"action\": \"current_date_time\",\n",
      "  \"action_input\": \"{\\\"query\\\": \\\"current year\\\"}\"\n",
      "}\n",
      "```\u001b[0m\n",
      "Observation: \u001b[38;5;200m\u001b[1;3m09:59:38 Saturday, July 22, 2023\u001b[0m\n",
      "Thought:\u001b[32;1m\u001b[1;3mI need to determine the current year.\u001b[0m\n",
      "\n",
      "\u001b[1m> Finished chain.\u001b[0m\n",
      "*****\n",
      "\n",
      "Step: Determine the current year.\n",
      "\n",
      "Response: I need to determine the current year.\n",
      "\n",
      "\u001b[1m> Entering new AgentExecutor chain...\u001b[0m\n",
      "\u001b[32;1m\u001b[1;3mThought: I need to search for information about the year in which the Qatar World Cup took place. I can use the search tool to find the answer.\n",
      "\n",
      "Action:\n",
      "```\n",
      "{\n",
      "  \"action\": \"Search\",\n",
      "  \"action_input\": \"year Qatar World Cup took place\"\n",
      "}\n",
      "```\u001b[0m\n",
      "Observation: \u001b[36;1m\u001b[1;3m20 Oct 2022 In 2010, Qatar was awarded the right to host the 2022 FIFA World Cup. The country would become the first in the Middle East to host the world's biggest sporting event, beating... When Qatar was named as host of the 2022 World Cup back in 2010, it was selected ahead of bids from the United States, South Korea, Japan and Australia. During the bidding process, it faced... 2022 FIFA World Cup, international football (soccer) tournament that took place in Qatar from November 20 to December 18, 2022, and was contested by the men's national teams of 32 countries. Argentina won its third World Cup victory in the tournament after defeating France in the final match. Where is Qatar and what is it like? Qatar is a small monarchy of 2.7 million people - of whom about 300,000 are Qatari citizens and the rest expatriates - on the Persian Gulf that shares its... Qatar 2022 will be the first World Cup held in the Middle East, as part of FIFA's pledge to stage at least one major in international tournament in the region before 2030.\u001b[0m\n",
      "Thought:\u001b[32;1m\u001b[1;3mThe Qatar World Cup took place in the year 2022.\n",
      "\n",
      "Action:\n",
      "```\n",
      "{\n",
      "  \"action\": \"Final Answer\",\n",
      "  \"action_input\": \"The Qatar World Cup took place in the year 2022.\"\n",
      "}\n",
      "```\u001b[0m\n",
      "\n",
      "\u001b[1m> Finished chain.\u001b[0m\n",
      "*****\n",
      "\n",
      "Step: Determine the year in which the Qatar World Cup took place.\n",
      "\n",
      "Response: The Qatar World Cup took place in the year 2022.\n",
      "\n",
      "\u001b[1m> Entering new AgentExecutor chain...\u001b[0m\n",
      "\u001b[32;1m\u001b[1;3mThought: To calculate the difference between the current year and the year of the Qatar World Cup, I can subtract the year of the Qatar World Cup from the current year. I will use the current_date_time tool to determine the current year.\n",
      "\n",
      "Action:\n",
      "```\n",
      "{\n",
      "  \"action\": \"current_date_time\",\n",
      "  \"action_input\": \"{\\\"query\\\": \\\"current year\\\"}\"\n",
      "}\n",
      "```\u001b[0m\n",
      "Observation: \u001b[38;5;200m\u001b[1;3m09:59:50 Saturday, July 22, 2023\u001b[0m\n",
      "Thought:\u001b[32;1m\u001b[1;3mThe current year is 2023. Now I can calculate the difference between the current year and the year of the Qatar World Cup.\n",
      "\n",
      "Action:\n",
      "```\n",
      "{\n",
      "  \"action\": \"Calculator\",\n",
      "  \"action_input\": \"2023 - 2022\"\n",
      "}\n",
      "```\u001b[0m\n",
      "\n",
      "\u001b[1m> Entering new LLMMathChain chain...\u001b[0m\n",
      "2023 - 2022\u001b[32;1m\u001b[1;3m```text\n",
      "2023 - 2022\n",
      "```\n",
      "...numexpr.evaluate(\"2023 - 2022\")...\n",
      "\u001b[0m\n",
      "Answer: \u001b[33;1m\u001b[1;3m1\u001b[0m\n",
      "\u001b[1m> Finished chain.\u001b[0m\n",
      "\n",
      "Observation: \u001b[33;1m\u001b[1;3mAnswer: 1\u001b[0m\n",
      "Thought:\u001b[32;1m\u001b[1;3mThe difference between the current year and the year of the Qatar World Cup is 1 year.\u001b[0m\n",
      "\n",
      "\u001b[1m> Finished chain.\u001b[0m\n",
      "*****\n",
      "\n",
      "Step: Calculate the difference between the current year and the year of the Qatar World Cup.\n",
      "\n",
      "Response: The difference between the current year and the year of the Qatar World Cup is 1 year.\n",
      "\n",
      "\u001b[1m> Entering new AgentExecutor chain...\u001b[0m\n",
      "\u001b[32;1m\u001b[1;3mAction:\n",
      "```\n",
      "{\n",
      "  \"action\": \"Final Answer\",\n",
      "  \"action_input\": \"Camila Morrone's current age is 25. Her age raised to the power of 0.43 is approximately 3.991298452658078.\"\n",
      "}\n",
      "```\u001b[0m\n",
      "\n",
      "\u001b[1m> Finished chain.\u001b[0m\n",
      "*****\n",
      "\n",
      "Step: Given the above steps taken, respond to the user's original question. \n",
      "\n",
      "\n",
      "\n",
      "Response: Camila Morrone's current age is 25. Her age raised to the power of 0.43 is approximately 3.991298452658078.\n",
      "\u001b[1m> Finished chain.\u001b[0m\n"
     ]
    },
    {
     "data": {
      "text/plain": [
       "\"Camila Morrone's current age is 25. Her age raised to the power of 0.43 is approximately 3.991298452658078.\""
      ]
     },
     "execution_count": 18,
     "metadata": {},
     "output_type": "execute_result"
    }
   ],
   "source": [
    "agent.run(\"How many years from now Qatar worldcup happened\")"
   ]
  }
 ],
 "metadata": {
  "jupytext": {
   "cell_metadata_filter": "-all",
   "formats": "md,ipynb"
  },
  "kernelspec": {
   "display_name": "Python 3 (ipykernel)",
   "language": "python",
   "name": "python3"
  },
  "language_info": {
   "codemirror_mode": {
    "name": "ipython",
    "version": 3
   },
   "file_extension": ".py",
   "mimetype": "text/x-python",
   "name": "python",
   "nbconvert_exporter": "python",
   "pygments_lexer": "ipython3",
   "version": "3.10.12"
  }
 },
 "nbformat": 4,
 "nbformat_minor": 5
}
